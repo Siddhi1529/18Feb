{
  "nbformat": 4,
  "nbformat_minor": 0,
  "metadata": {
    "colab": {
      "provenance": []
    },
    "kernelspec": {
      "name": "python3",
      "display_name": "Python 3"
    },
    "language_info": {
      "name": "python"
    }
  },
  "cells": [
    {
      "cell_type": "markdown",
      "source": [
        "Q1. What is an API? Give an example, where an API is used in real life.\n"
      ],
      "metadata": {
        "id": "f1nYOOsVcIRw"
      }
    },
    {
      "cell_type": "markdown",
      "source": [
        "An **API** (Application Programming Interface) is a set of rules that allows different software applications to communicate with each other. It defines how requests and responses are made between systems.\n",
        "\n",
        "Example in Real Life:\n",
        "A **weather app** uses an API to fetch weather data from a weather service. When you enter a city name, the app sends a request to the weather API, which responds with the current weather information for that city. The app then displays this data to the user."
      ],
      "metadata": {
        "id": "M2SsLpT3cY8T"
      }
    },
    {
      "cell_type": "code",
      "source": [],
      "metadata": {
        "id": "oZQTqHTTcKUo"
      },
      "execution_count": null,
      "outputs": []
    },
    {
      "cell_type": "markdown",
      "source": [
        "Q2. Give advantages and disadvantages of using API.\n"
      ],
      "metadata": {
        "id": "6H230it6cKdM"
      }
    },
    {
      "cell_type": "markdown",
      "source": [
        "### Advantages of Using APIs:\n",
        "1. **Efficiency**: APIs allow seamless integration between different systems, saving development time and resources.\n",
        "2. **Reusability**: APIs enable developers to use pre-built functions or services, avoiding the need to write code from scratch.\n",
        "3. **Scalability**: APIs make it easy to scale applications by integrating additional services or features without major changes to the core system.\n",
        "4. **Security**: APIs provide controlled access to data or services, allowing secure interaction between systems.\n",
        "\n",
        "### Disadvantages of Using APIs:\n",
        "1. **Dependency**: Relying on third-party APIs means you depend on their uptime and functionality, which could lead to issues if the API service is down or changes.\n",
        "2. **Complexity**: Managing multiple APIs can add complexity, especially when dealing with different versions and handling authentication or rate limits.\n",
        "3. **Performance**: API calls can add latency, especially when interacting with remote services over the internet."
      ],
      "metadata": {
        "id": "NKP8YMLXcgA7"
      }
    },
    {
      "cell_type": "code",
      "source": [],
      "metadata": {
        "id": "-coO6mrdcLd-"
      },
      "execution_count": null,
      "outputs": []
    },
    {
      "cell_type": "markdown",
      "source": [
        "Q3. What is a Web API? Differentiate between API and Web API.\n"
      ],
      "metadata": {
        "id": "NsfaJUHxcLk7"
      }
    },
    {
      "cell_type": "markdown",
      "source": [
        "### What is a Web API?\n",
        "A **Web API** (Application Programming Interface) is an API that allows interaction between different software applications over the web using HTTP protocols. It enables communication between client and server, allowing clients (like web browsers or mobile apps) to request data from or send data to a server.\n",
        "\n",
        "### Difference Between API and Web API:\n",
        "\n",
        "1. **Communication**:\n",
        "   - **API**: Can work within the same machine or between different software components (local or remote).\n",
        "   - **Web API**: Specifically designed for communication over the internet using protocols like HTTP/HTTPS.\n",
        "\n",
        "2. **Transport Protocol**:\n",
        "   - **API**: Can use various protocols like HTTP, TCP, or even shared memory.\n",
        "   - **Web API**: Exclusively uses web protocols (HTTP/HTTPS) to interact with clients.\n",
        "\n",
        "3. **Access**:\n",
        "   - **API**: Can be used internally within a system or application.\n",
        "   - **Web API**: Exposes functionalities to external applications over the web.\n",
        "\n",
        "4. **Usage**:\n",
        "   - **API**: Can be used for both web and non-web applications.\n",
        "   - **Web API**: Specifically used for building web services and enabling web applications to interact with servers remotely."
      ],
      "metadata": {
        "id": "jL8WAaIbckk9"
      }
    },
    {
      "cell_type": "code",
      "source": [],
      "metadata": {
        "id": "xXUt-fP8cMgU"
      },
      "execution_count": null,
      "outputs": []
    },
    {
      "cell_type": "markdown",
      "source": [
        "Q4. Explain REST and SOAP Architecture. Mention shortcomings of SOAP.\n"
      ],
      "metadata": {
        "id": "2Yf1hCabcMm2"
      }
    },
    {
      "cell_type": "markdown",
      "source": [
        "### REST Architecture:\n",
        "**REST** (Representational State Transfer) is an architectural style for designing networked applications, primarily over HTTP. It relies on stateless communication, where each request from the client to the server contains all the information needed to understand and process the request. RESTful APIs use standard HTTP methods like **GET**, **POST**, **PUT**, and **DELETE**.\n",
        "\n",
        "- **Stateless**: Each request is independent, and the server does not store any session data.\n",
        "- **Scalability**: REST is designed to be lightweight and scalable, making it suitable for high-performance web services.\n",
        "- **Flexible Formats**: REST commonly uses JSON for data interchange, but XML and other formats can be used.\n",
        "  \n",
        "### SOAP Architecture:\n",
        "**SOAP** (Simple Object Access Protocol) is a protocol for exchanging structured information in the implementation of web services. SOAP messages are typically formatted in XML and use HTTP (or SMTP, TCP) for message transmission.\n",
        "\n",
        "- **Protocol-based**: SOAP is a strict, standardized protocol with a defined set of rules for message format and processing.\n",
        "- **Stateful/Stateless**: SOAP can be both stateful or stateless.\n",
        "- **Security**: SOAP provides advanced security features (WS-Security), making it suitable for secure enterprise applications.\n",
        "- **Complexity**: SOAP includes additional headers, standards, and protocols for transactions and security.\n",
        "\n",
        "### Shortcomings of SOAP:\n",
        "1. **Complexity**: SOAP messages are verbose and require more processing because they are XML-based and include additional headers for security, transactions, and routing.\n",
        "2. **Performance**: The XML format used in SOAP can be slower compared to the lightweight JSON format used by REST.\n",
        "3. **Tight Coupling**: SOAP is more rigid and tightly coupled to specific service definitions, making it harder to change or scale.\n",
        "4. **Limited Browser Support**: SOAP is not natively supported by browsers and requires more complex setups (like additional libraries) for communication.\n",
        "\n",
        "In contrast, **REST** is simpler and more flexible, making it widely used for web services today."
      ],
      "metadata": {
        "id": "DyutNlApcrum"
      }
    },
    {
      "cell_type": "code",
      "source": [],
      "metadata": {
        "id": "Wod0jYmkcNZJ"
      },
      "execution_count": null,
      "outputs": []
    },
    {
      "cell_type": "markdown",
      "source": [
        "Q5. Differentiate between REST and SOAP."
      ],
      "metadata": {
        "id": "Fmhy7Vv0cNnj"
      }
    },
    {
      "cell_type": "markdown",
      "source": [
        "Protocol:\n",
        "\n",
        "REST: Architectural style using HTTP/HTTPS.\n",
        "SOAP: A protocol that uses XML over HTTP, SMTP, etc.\n",
        "Message Format:\n",
        "\n",
        "REST: Primarily uses JSON, but XML is also supported.\n",
        "SOAP: Strictly uses XML.\n",
        "Complexity:\n",
        "\n",
        "REST: Simple, easy to implement, and lightweight.\n",
        "SOAP: Complex with rigid standards for message structure, security, and transactions.\n",
        "State:\n",
        "\n",
        "REST: Stateless (each request is independent).\n",
        "SOAP: Can be stateful or stateless.\n",
        "Flexibility:\n",
        "\n",
        "REST: More flexible, supports various formats (JSON, XML, HTML).\n",
        "SOAP: Less flexible, strictly uses XML."
      ],
      "metadata": {
        "id": "s4wv8Ncec0r9"
      }
    },
    {
      "cell_type": "code",
      "source": [],
      "metadata": {
        "id": "yTp2AaPHcN5P"
      },
      "execution_count": null,
      "outputs": []
    }
  ]
}